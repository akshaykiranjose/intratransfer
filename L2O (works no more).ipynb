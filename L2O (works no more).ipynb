{
 "cells": [
  {
   "cell_type": "code",
   "execution_count": 1,
   "id": "25e7b153",
   "metadata": {},
   "outputs": [],
   "source": [
    "import torch\n",
    "import torch.nn as nn\n",
    "from torch import optim\n",
    "import torch.nn.functional as F"
   ]
  },
  {
   "cell_type": "code",
   "execution_count": 2,
   "id": "1c3381db",
   "metadata": {},
   "outputs": [],
   "source": [
    "import matplotlib.pyplot as plt\n",
    "import numpy as np\n",
    "from torchviz import make_dot\n",
    "from tqdm import tqdm"
   ]
  },
  {
   "cell_type": "raw",
   "id": "aad9176f",
   "metadata": {},
   "source": [
    "device = torch.device(\"cuda\" if torch.cuda.is_available() else \"cpu\")"
   ]
  },
  {
   "cell_type": "code",
   "execution_count": 3,
   "id": "873ce24b",
   "metadata": {},
   "outputs": [],
   "source": [
    "class Optimizer(nn.Module):\n",
    "    \n",
    "    def __init__(self, hidden_size = 20):\n",
    "        super().__init__()\n",
    "        self.hidden_size = hidden_size\n",
    "        self.lstm1 = nn.LSTMCell(1, self.hidden_size)\n",
    "        self.lstm2 = nn.LSTMCell(self.hidden_size, self.hidden_size)\n",
    "        self.output = nn.Linear(self.hidden_size, 1)\n",
    "        \n",
    "    def forward(self, inp, state = None):\n",
    "        if state==None:\n",
    "            hx, cx = torch.zeros(inp.size(0), self.hidden_size), torch.zeros(inp.size(0), self.hidden_size)\n",
    "        else:\n",
    "            hx, cx = state\n",
    "        hx, cx = self.lstm1(inp, (hx,cx))\n",
    "        hx, cx = self.lstm2(hx, (hx, cx))\n",
    "        gt = self.output(hx)\n",
    "        return gt, (hx,cx)"
   ]
  },
  {
   "cell_type": "code",
   "execution_count": 126,
   "id": "30419b45",
   "metadata": {},
   "outputs": [],
   "source": [
    "class Quadratic(nn.Module):\n",
    "    \n",
    "    def __init__(self, seed = 0, **kwargs):\n",
    "        super().__init__()\n",
    "        torch.manual_seed(seed)\n",
    "        self.W = torch.randn(size=(10,10))\n",
    "        self.y = torch.randn(size=(10,1))\n",
    "        self.theta = nn.Parameter(torch.randn(size=(10,1)))\n",
    "    \n",
    "    def opt_theta(self):\n",
    "        return torch.linalg.inv(self.W) @ self.y \n",
    "        \n",
    "    def forward(self, x):\n",
    "        return nn.MSELoss(reduction='sum')(torch.mm(self.W, x), self.y)"
   ]
  },
  {
   "cell_type": "code",
   "execution_count": 149,
   "id": "770967cf",
   "metadata": {},
   "outputs": [],
   "source": [
    "meta_opt = Optimizer()\n",
    "quad_cls = Quadratic()"
   ]
  },
  {
   "cell_type": "code",
   "execution_count": 158,
   "id": "3d0fcf6d",
   "metadata": {},
   "outputs": [
    {
     "name": "stdout",
     "output_type": "stream",
     "text": [
      "[None, None, None, None, None, None, None, None, None, None]\n",
      "[None, None, None, None, None, None, None, None, None, None]\n"
     ]
    }
   ],
   "source": [
    "meta_opt = Optimizer()\n",
    "quad_cls = Quadratic()\n",
    "\n",
    "x = quad_cls.theta\n",
    "q_loss = quad_cls(x)\n",
    "q_loss.backward() #this populated x.grad\n",
    "\n",
    "print([z.grad for z in meta_opt.parameters()]) \n",
    "#output is: [None, None, None, None, None, None, None, None, None, None]\n",
    "\n",
    "update, state = meta_opt(x.grad, None)\n",
    "\n",
    "x = x + update.clone().detach()\n",
    "\n",
    "m_loss = quad_cls(x)\n",
    "m_loss.backward()\n",
    "\n",
    "print([z.grad for z in meta_opt.parameters()]) \n",
    "#output is still: [None, None, None, None, None, None, None, None, None, None]"
   ]
  },
  {
   "cell_type": "code",
   "execution_count": 154,
   "id": "4904c718",
   "metadata": {},
   "outputs": [],
   "source": [
    "def learn(optimizer, optimizee, unroll_steps, old_state=None):\n",
    "    \n",
    "    x = optimizee.theta.clone().detach()\n",
    "    global_loss = 0\n",
    "    state = None if old_state is None else old_state\n",
    "    x.requires_grad_()\n",
    "    losses = []\n",
    "\n",
    "    for i in range(unroll_steps):\n",
    "\n",
    "        loss = optimizee(x)\n",
    "        global_loss += loss\n",
    "        \n",
    "        loss.backward(retain_graph=True) #populate/update the grad of f wrt x\n",
    "        \n",
    "        update, state = optimizer(x.grad, state)\n",
    "        losses.append(float(loss.item()))\n",
    "        \n",
    "        x = update\n",
    "        x.retain_grad()\n",
    "\n",
    "    return losses, global_loss, state"
   ]
  },
  {
   "cell_type": "code",
   "execution_count": 155,
   "id": "80a86a8d",
   "metadata": {},
   "outputs": [],
   "source": [
    "meta_opt = Optimizer()\n",
    "quad_cls = Quadratic()"
   ]
  },
  {
   "cell_type": "code",
   "execution_count": 156,
   "id": "fa3b3afe",
   "metadata": {},
   "outputs": [],
   "source": [
    "def trainL2O(optimizee_cls, optimizer_obj, num_functions, unroll_length = 20, iterations = 100, meta_lr = 0.001):\n",
    "    \n",
    "    meta_opt = optimizer_obj\n",
    "    avg_loss_funcs = np.zeros((num_functions, iterations))\n",
    "    for n_func in tqdm(range(num_functions)):\n",
    "        \n",
    "        quad_cls = optimizee_cls(seed=n_func)\n",
    "        global_optimizer = torch.optim.SGD(meta_opt.parameters(), lr = meta_lr)\n",
    "        state = None\n",
    "        \n",
    "        for iter in range(iterations):\n",
    "            # Compute global loss\n",
    "            loss_vec_unroll, global_loss, state = learn(meta_opt, \n",
    "                                                        quad_cls, \n",
    "                                                        unroll_steps=unroll_length, \n",
    "                                                        old_state=state)\n",
    "\n",
    "            # Zero the gradients of the global optimizer\n",
    "            global_optimizer.zero_grad()\n",
    "\n",
    "            # Backpropagate gradients through global loss\n",
    "            global_loss.backward()\n",
    "\n",
    "            # Update the parameters of the global optimizer\n",
    "            global_optimizer.step()\n",
    "\n",
    "            avg_loss_funcs[n_func, iter] = np.mean(loss_vec_unroll)\n",
    "\n",
    "    return avg_loss_funcs.mean(axis=0)"
   ]
  },
  {
   "cell_type": "code",
   "execution_count": 157,
   "id": "4e00f9ea",
   "metadata": {
    "scrolled": true
   },
   "outputs": [
    {
     "name": "stderr",
     "output_type": "stream",
     "text": [
      "  0%|                                                                                                            | 0/25 [00:00<?, ?it/s]\n"
     ]
    },
    {
     "ename": "RuntimeError",
     "evalue": "one of the variables needed for gradient computation has been modified by an inplace operation: [torch.FloatTensor [20, 80]], which is output 0 of AsStridedBackward0, is at version 2; expected version 1 instead. Hint: enable anomaly detection to find the operation that failed to compute its gradient, with torch.autograd.set_detect_anomaly(True).",
     "output_type": "error",
     "traceback": [
      "\u001b[1;31m---------------------------------------------------------------------------\u001b[0m",
      "\u001b[1;31mRuntimeError\u001b[0m                              Traceback (most recent call last)",
      "\u001b[1;32m~\\AppData\\Local\\Temp/ipykernel_21028/792332022.py\u001b[0m in \u001b[0;36m<module>\u001b[1;34m\u001b[0m\n\u001b[1;32m----> 1\u001b[1;33m avg_loss = trainL2O(optimizee_cls = Quadratic, \n\u001b[0m\u001b[0;32m      2\u001b[0m                     \u001b[0moptimizer_obj\u001b[0m \u001b[1;33m=\u001b[0m \u001b[0mmeta_opt\u001b[0m\u001b[1;33m,\u001b[0m\u001b[1;33m\u001b[0m\u001b[1;33m\u001b[0m\u001b[0m\n\u001b[0;32m      3\u001b[0m                     \u001b[0mnum_functions\u001b[0m \u001b[1;33m=\u001b[0m \u001b[1;36m25\u001b[0m\u001b[1;33m,\u001b[0m\u001b[1;33m\u001b[0m\u001b[1;33m\u001b[0m\u001b[0m\n\u001b[0;32m      4\u001b[0m                     \u001b[0munroll_length\u001b[0m \u001b[1;33m=\u001b[0m \u001b[1;36m20\u001b[0m\u001b[1;33m,\u001b[0m\u001b[1;33m\u001b[0m\u001b[1;33m\u001b[0m\u001b[0m\n\u001b[0;32m      5\u001b[0m                     \u001b[0miterations\u001b[0m \u001b[1;33m=\u001b[0m \u001b[1;36m100\u001b[0m\u001b[1;33m,\u001b[0m\u001b[1;33m\u001b[0m\u001b[1;33m\u001b[0m\u001b[0m\n",
      "\u001b[1;32m~\\AppData\\Local\\Temp/ipykernel_21028/3554047324.py\u001b[0m in \u001b[0;36mtrainL2O\u001b[1;34m(optimizee_cls, optimizer_obj, num_functions, unroll_length, iterations, meta_lr)\u001b[0m\n\u001b[0;32m     11\u001b[0m         \u001b[1;32mfor\u001b[0m \u001b[0miter\u001b[0m \u001b[1;32min\u001b[0m \u001b[0mrange\u001b[0m\u001b[1;33m(\u001b[0m\u001b[0miterations\u001b[0m\u001b[1;33m)\u001b[0m\u001b[1;33m:\u001b[0m\u001b[1;33m\u001b[0m\u001b[1;33m\u001b[0m\u001b[0m\n\u001b[0;32m     12\u001b[0m             \u001b[1;31m# Compute global loss\u001b[0m\u001b[1;33m\u001b[0m\u001b[1;33m\u001b[0m\u001b[0m\n\u001b[1;32m---> 13\u001b[1;33m             loss_vec_unroll, global_loss, state = learn(meta_opt, \n\u001b[0m\u001b[0;32m     14\u001b[0m                                                         \u001b[0mquad_cls\u001b[0m\u001b[1;33m,\u001b[0m\u001b[1;33m\u001b[0m\u001b[1;33m\u001b[0m\u001b[0m\n\u001b[0;32m     15\u001b[0m                                                         \u001b[0munroll_steps\u001b[0m\u001b[1;33m=\u001b[0m\u001b[0munroll_length\u001b[0m\u001b[1;33m,\u001b[0m\u001b[1;33m\u001b[0m\u001b[1;33m\u001b[0m\u001b[0m\n",
      "\u001b[1;32m~\\AppData\\Local\\Temp/ipykernel_21028/592525277.py\u001b[0m in \u001b[0;36mlearn\u001b[1;34m(optimizer, optimizee, unroll_steps, old_state)\u001b[0m\n\u001b[0;32m     12\u001b[0m         \u001b[0mglobal_loss\u001b[0m \u001b[1;33m+=\u001b[0m \u001b[0mloss\u001b[0m\u001b[1;33m\u001b[0m\u001b[1;33m\u001b[0m\u001b[0m\n\u001b[0;32m     13\u001b[0m \u001b[1;33m\u001b[0m\u001b[0m\n\u001b[1;32m---> 14\u001b[1;33m         \u001b[0mloss\u001b[0m\u001b[1;33m.\u001b[0m\u001b[0mbackward\u001b[0m\u001b[1;33m(\u001b[0m\u001b[0mretain_graph\u001b[0m\u001b[1;33m=\u001b[0m\u001b[1;32mTrue\u001b[0m\u001b[1;33m)\u001b[0m \u001b[1;31m#populate/update the grad of f wrt x\u001b[0m\u001b[1;33m\u001b[0m\u001b[1;33m\u001b[0m\u001b[0m\n\u001b[0m\u001b[0;32m     15\u001b[0m \u001b[1;33m\u001b[0m\u001b[0m\n\u001b[0;32m     16\u001b[0m         \u001b[0mupdate\u001b[0m\u001b[1;33m,\u001b[0m \u001b[0mstate\u001b[0m \u001b[1;33m=\u001b[0m \u001b[0moptimizer\u001b[0m\u001b[1;33m(\u001b[0m\u001b[0mx\u001b[0m\u001b[1;33m.\u001b[0m\u001b[0mgrad\u001b[0m\u001b[1;33m,\u001b[0m \u001b[0mstate\u001b[0m\u001b[1;33m)\u001b[0m\u001b[1;33m\u001b[0m\u001b[1;33m\u001b[0m\u001b[0m\n",
      "\u001b[1;32mC:\\ProgramData\\Anaconda3\\lib\\site-packages\\torch\\_tensor.py\u001b[0m in \u001b[0;36mbackward\u001b[1;34m(self, gradient, retain_graph, create_graph, inputs)\u001b[0m\n\u001b[0;32m    486\u001b[0m                 \u001b[0minputs\u001b[0m\u001b[1;33m=\u001b[0m\u001b[0minputs\u001b[0m\u001b[1;33m,\u001b[0m\u001b[1;33m\u001b[0m\u001b[1;33m\u001b[0m\u001b[0m\n\u001b[0;32m    487\u001b[0m             )\n\u001b[1;32m--> 488\u001b[1;33m         torch.autograd.backward(\n\u001b[0m\u001b[0;32m    489\u001b[0m             \u001b[0mself\u001b[0m\u001b[1;33m,\u001b[0m \u001b[0mgradient\u001b[0m\u001b[1;33m,\u001b[0m \u001b[0mretain_graph\u001b[0m\u001b[1;33m,\u001b[0m \u001b[0mcreate_graph\u001b[0m\u001b[1;33m,\u001b[0m \u001b[0minputs\u001b[0m\u001b[1;33m=\u001b[0m\u001b[0minputs\u001b[0m\u001b[1;33m\u001b[0m\u001b[1;33m\u001b[0m\u001b[0m\n\u001b[0;32m    490\u001b[0m         )\n",
      "\u001b[1;32mC:\\ProgramData\\Anaconda3\\lib\\site-packages\\torch\\autograd\\__init__.py\u001b[0m in \u001b[0;36mbackward\u001b[1;34m(tensors, grad_tensors, retain_graph, create_graph, grad_variables, inputs)\u001b[0m\n\u001b[0;32m    195\u001b[0m     \u001b[1;31m# some Python versions print out the first line of a multi-line function\u001b[0m\u001b[1;33m\u001b[0m\u001b[1;33m\u001b[0m\u001b[0m\n\u001b[0;32m    196\u001b[0m     \u001b[1;31m# calls in the traceback and some print out the last line\u001b[0m\u001b[1;33m\u001b[0m\u001b[1;33m\u001b[0m\u001b[0m\n\u001b[1;32m--> 197\u001b[1;33m     Variable._execution_engine.run_backward(  # Calls into the C++ engine to run the backward pass\n\u001b[0m\u001b[0;32m    198\u001b[0m         \u001b[0mtensors\u001b[0m\u001b[1;33m,\u001b[0m \u001b[0mgrad_tensors_\u001b[0m\u001b[1;33m,\u001b[0m \u001b[0mretain_graph\u001b[0m\u001b[1;33m,\u001b[0m \u001b[0mcreate_graph\u001b[0m\u001b[1;33m,\u001b[0m \u001b[0minputs\u001b[0m\u001b[1;33m,\u001b[0m\u001b[1;33m\u001b[0m\u001b[1;33m\u001b[0m\u001b[0m\n\u001b[0;32m    199\u001b[0m         allow_unreachable=True, accumulate_grad=True)  # Calls into the C++ engine to run the backward pass\n",
      "\u001b[1;31mRuntimeError\u001b[0m: one of the variables needed for gradient computation has been modified by an inplace operation: [torch.FloatTensor [20, 80]], which is output 0 of AsStridedBackward0, is at version 2; expected version 1 instead. Hint: enable anomaly detection to find the operation that failed to compute its gradient, with torch.autograd.set_detect_anomaly(True)."
     ]
    }
   ],
   "source": [
    "avg_loss = trainL2O(optimizee_cls = Quadratic, \n",
    "                    optimizer_obj = meta_opt, \n",
    "                    num_functions = 25,\n",
    "                    unroll_length = 20, \n",
    "                    iterations = 100, \n",
    "                    meta_lr = .001)"
   ]
  },
  {
   "cell_type": "code",
   "execution_count": 47,
   "id": "6c2020b3",
   "metadata": {},
   "outputs": [
    {
     "data": {
      "text/plain": [
       "tensor(86.9042)"
      ]
     },
     "execution_count": 47,
     "metadata": {},
     "output_type": "execute_result"
    }
   ],
   "source": [
    "quad_cls(quad_cls.theta)"
   ]
  },
  {
   "cell_type": "code",
   "execution_count": 43,
   "id": "8348064d",
   "metadata": {},
   "outputs": [
    {
     "data": {
      "text/plain": [
       "[Parameter containing:\n",
       " tensor([[ 0.1395],\n",
       "         [-0.1750],\n",
       "         [-0.0473],\n",
       "         [-0.0907],\n",
       "         [-0.0431],\n",
       "         [-0.0439],\n",
       "         [-0.2007],\n",
       "         [-0.1931],\n",
       "         [-0.0350],\n",
       "         [ 0.0029],\n",
       "         [-0.1016],\n",
       "         [ 0.0842],\n",
       "         [-0.2013],\n",
       "         [-0.0151],\n",
       "         [ 0.1966],\n",
       "         [-0.0912],\n",
       "         [ 0.2019],\n",
       "         [ 0.0810],\n",
       "         [-0.2018],\n",
       "         [ 0.1415],\n",
       "         [-0.0258],\n",
       "         [-0.0998],\n",
       "         [ 0.1788],\n",
       "         [-0.1807],\n",
       "         [ 0.0240],\n",
       "         [-0.0468],\n",
       "         [ 0.1597],\n",
       "         [ 0.0624],\n",
       "         [ 0.1074],\n",
       "         [ 0.0790],\n",
       "         [-0.0538],\n",
       "         [-0.0470],\n",
       "         [-0.1843],\n",
       "         [ 0.1212],\n",
       "         [ 0.1775],\n",
       "         [ 0.1530],\n",
       "         [-0.1577],\n",
       "         [ 0.0100],\n",
       "         [-0.1576],\n",
       "         [-0.1231],\n",
       "         [-0.1303],\n",
       "         [ 0.0764],\n",
       "         [-0.1333],\n",
       "         [-0.0049],\n",
       "         [ 0.0094],\n",
       "         [ 0.1441],\n",
       "         [-0.1690],\n",
       "         [-0.1535],\n",
       "         [-0.1298],\n",
       "         [ 0.1565],\n",
       "         [-0.0804],\n",
       "         [ 0.1886],\n",
       "         [ 0.0809],\n",
       "         [ 0.0283],\n",
       "         [-0.0017],\n",
       "         [-0.0442],\n",
       "         [ 0.0281],\n",
       "         [-0.0511],\n",
       "         [-0.0016],\n",
       "         [ 0.0285],\n",
       "         [-0.1749],\n",
       "         [-0.1172],\n",
       "         [ 0.1806],\n",
       "         [-0.1815],\n",
       "         [-0.0161],\n",
       "         [ 0.2212],\n",
       "         [ 0.0808],\n",
       "         [ 0.0063],\n",
       "         [-0.1938],\n",
       "         [ 0.1108],\n",
       "         [-0.1593],\n",
       "         [-0.0635],\n",
       "         [-0.0750],\n",
       "         [-0.0331],\n",
       "         [ 0.0024],\n",
       "         [ 0.1844],\n",
       "         [ 0.0279],\n",
       "         [ 0.2003],\n",
       "         [ 0.1368],\n",
       "         [-0.1414]], requires_grad=True),\n",
       " Parameter containing:\n",
       " tensor([[ 0.1003, -0.1581, -0.0948,  ..., -0.0654, -0.1328, -0.0827],\n",
       "         [-0.2216,  0.1009, -0.1074,  ...,  0.0483, -0.1255, -0.1994],\n",
       "         [ 0.1961, -0.1452, -0.0254,  ..., -0.0046, -0.0503, -0.1378],\n",
       "         ...,\n",
       "         [-0.1227, -0.0699,  0.0814,  ...,  0.1173,  0.0895, -0.0580],\n",
       "         [ 0.1188,  0.1075,  0.0774,  ...,  0.1581,  0.0560,  0.1219],\n",
       "         [ 0.1768,  0.0440,  0.0760,  ..., -0.0295,  0.0625, -0.1701]],\n",
       "        requires_grad=True),\n",
       " Parameter containing:\n",
       " tensor([ 0.1723,  0.2022,  0.0138,  0.1820, -0.1012, -0.0885, -0.0289,  0.0244,\n",
       "         -0.1560, -0.1791,  0.0883,  0.0645,  0.2187, -0.0912,  0.0790, -0.0902,\n",
       "          0.1104, -0.0124,  0.1658,  0.1242,  0.1861,  0.1149,  0.0084,  0.1927,\n",
       "         -0.1313,  0.2109,  0.2185,  0.2136, -0.1045, -0.1185,  0.0141,  0.0696,\n",
       "          0.1122,  0.0909,  0.1904, -0.0560, -0.0734,  0.0750,  0.0623, -0.1304,\n",
       "          0.0216, -0.1698, -0.0656, -0.0878,  0.1960, -0.2013, -0.1320, -0.2188,\n",
       "          0.0564, -0.1721,  0.0723, -0.1553, -0.1432, -0.1142,  0.0336,  0.2055,\n",
       "          0.2095, -0.0169, -0.2190, -0.0739, -0.0852, -0.0476,  0.0854,  0.1125,\n",
       "          0.0991,  0.0639, -0.0905, -0.0024,  0.0285, -0.1142, -0.0200, -0.0279,\n",
       "         -0.2113,  0.1516, -0.0226, -0.1933,  0.1769, -0.1203,  0.0792,  0.2218],\n",
       "        requires_grad=True),\n",
       " Parameter containing:\n",
       " tensor([ 0.0104,  0.0643,  0.0888,  0.1690, -0.0686, -0.1258, -0.0175,  0.1749,\n",
       "          0.0192,  0.1554, -0.0017,  0.0686,  0.0078,  0.0061, -0.2128, -0.1955,\n",
       "          0.0186,  0.1107,  0.1502,  0.0097,  0.0943,  0.0935, -0.1930, -0.1965,\n",
       "         -0.1734,  0.0038, -0.1414, -0.0716, -0.0335,  0.0872,  0.0518,  0.2074,\n",
       "          0.2017, -0.1427, -0.0007,  0.0369,  0.1952, -0.0693, -0.0879, -0.1416,\n",
       "          0.1648, -0.0633, -0.0837,  0.1512,  0.2058, -0.0094, -0.1576,  0.1822,\n",
       "         -0.0765, -0.1030, -0.1572, -0.1075, -0.1751, -0.1291, -0.2037, -0.0451,\n",
       "          0.0899, -0.1697, -0.0003, -0.0825,  0.1082,  0.1937, -0.0296, -0.1125,\n",
       "         -0.1718, -0.1314,  0.0646,  0.0513,  0.1204, -0.0332,  0.1149, -0.1992,\n",
       "          0.0601,  0.2171, -0.2213, -0.1161,  0.1431, -0.0350, -0.1192,  0.1364],\n",
       "        requires_grad=True),\n",
       " Parameter containing:\n",
       " tensor([[ 0.0150,  0.0088, -0.0679,  ...,  0.0718,  0.1562,  0.0270],\n",
       "         [-0.0224,  0.1422, -0.1606,  ..., -0.0024, -0.0530,  0.1043],\n",
       "         [ 0.0857, -0.1191,  0.1473,  ..., -0.0765, -0.0227, -0.0044],\n",
       "         ...,\n",
       "         [-0.1935,  0.0811, -0.1963,  ..., -0.0145, -0.1738, -0.0512],\n",
       "         [ 0.2128, -0.1585, -0.1411,  ...,  0.2185, -0.1630, -0.1908],\n",
       "         [ 0.2208, -0.1932,  0.1903,  ..., -0.0061,  0.0657, -0.0910]],\n",
       "        requires_grad=True),\n",
       " Parameter containing:\n",
       " tensor([[-0.1538,  0.0285, -0.1427,  ..., -0.0698, -0.1069, -0.0026],\n",
       "         [-0.1487,  0.1851,  0.1415,  ...,  0.0107, -0.0407, -0.1220],\n",
       "         [-0.1328, -0.0318, -0.1312,  ..., -0.0095, -0.1120, -0.1181],\n",
       "         ...,\n",
       "         [ 0.1664,  0.0682,  0.1993,  ...,  0.1426,  0.2061,  0.0879],\n",
       "         [ 0.0753, -0.0579, -0.0916,  ...,  0.1829,  0.0049, -0.1741],\n",
       "         [ 0.0137, -0.0863, -0.1367,  ..., -0.1801,  0.0655, -0.1820]],\n",
       "        requires_grad=True),\n",
       " Parameter containing:\n",
       " tensor([ 0.0725,  0.0346, -0.2135,  0.0812, -0.0614,  0.2229,  0.2182,  0.0772,\n",
       "          0.1763,  0.0808,  0.2116, -0.0206,  0.0553, -0.0369, -0.0039, -0.0675,\n",
       "         -0.0885,  0.1294,  0.0960, -0.0987, -0.1971,  0.1093, -0.2057, -0.0099,\n",
       "         -0.1924,  0.1872,  0.1821, -0.1838, -0.2079, -0.1322,  0.0617, -0.1118,\n",
       "         -0.0533, -0.0567,  0.0410, -0.1058,  0.1017, -0.1600, -0.0199,  0.1874,\n",
       "         -0.1235,  0.1716,  0.1164, -0.0722,  0.0775, -0.1511,  0.0180,  0.0633,\n",
       "          0.1934, -0.1251, -0.1272, -0.1116, -0.2178,  0.0452, -0.1851, -0.0600,\n",
       "         -0.0998,  0.0125,  0.0678, -0.1625, -0.0660, -0.0215, -0.1293,  0.0517,\n",
       "          0.0828, -0.1594,  0.1758,  0.1589, -0.0672,  0.0333,  0.0272, -0.0309,\n",
       "         -0.1501,  0.1843,  0.1100, -0.1869, -0.1733,  0.2126,  0.0357, -0.0514],\n",
       "        requires_grad=True),\n",
       " Parameter containing:\n",
       " tensor([ 0.1515,  0.0642,  0.0803,  0.1774, -0.0175,  0.2131, -0.1571, -0.1361,\n",
       "          0.0379, -0.0271,  0.1276, -0.0608,  0.0352, -0.0465,  0.1679, -0.0147,\n",
       "          0.0034,  0.1638,  0.2174,  0.2140, -0.2186, -0.1264, -0.0486, -0.0462,\n",
       "          0.1293,  0.1010, -0.0184,  0.0053,  0.0479,  0.1928,  0.1159, -0.1128,\n",
       "         -0.1145,  0.0707, -0.0226, -0.1435, -0.2164,  0.0320, -0.0653, -0.1301,\n",
       "          0.0421,  0.2177,  0.1857,  0.1275, -0.1686,  0.1276,  0.1157,  0.0746,\n",
       "         -0.0557, -0.0039, -0.1213, -0.0504, -0.0368, -0.0317, -0.2225,  0.0789,\n",
       "         -0.1830, -0.1672,  0.0909, -0.1830,  0.2133,  0.2141, -0.0711, -0.0385,\n",
       "         -0.1711,  0.0138,  0.0409, -0.1227,  0.0701, -0.0086, -0.0659, -0.0008,\n",
       "         -0.2167, -0.1575,  0.0296,  0.2159, -0.1325,  0.1434,  0.0205, -0.0962],\n",
       "        requires_grad=True),\n",
       " Parameter containing:\n",
       " tensor([[ 0.0002,  0.1072,  0.0266,  0.1979, -0.0423, -0.1493,  0.2021, -0.0639,\n",
       "           0.1419,  0.1475,  0.0396, -0.1835, -0.2195,  0.1062,  0.0547,  0.1301,\n",
       "          -0.1971, -0.0308,  0.1932,  0.1175]], requires_grad=True),\n",
       " Parameter containing:\n",
       " tensor([0.1858], requires_grad=True)]"
      ]
     },
     "execution_count": 43,
     "metadata": {},
     "output_type": "execute_result"
    }
   ],
   "source": [
    "[x for x in meta_opt.parameters()]"
   ]
  },
  {
   "cell_type": "code",
   "execution_count": 44,
   "id": "b27113f6",
   "metadata": {},
   "outputs": [
    {
     "data": {
      "text/plain": [
       "[None, None, None, None, None, None, None, None, None, None]"
      ]
     },
     "execution_count": 44,
     "metadata": {},
     "output_type": "execute_result"
    }
   ],
   "source": [
    "[x.grad for x in meta_opt.parameters()]"
   ]
  },
  {
   "cell_type": "code",
   "execution_count": 45,
   "id": "eb322804",
   "metadata": {},
   "outputs": [
    {
     "data": {
      "text/plain": [
       "array([6.07472900e+02, 3.93628049e+03, 1.05243278e+04, 2.04136561e+04,\n",
       "       3.36862246e+04, 5.04107924e+04, 7.06410844e+04, 9.44193973e+04,\n",
       "       1.21778867e+05, 1.52744954e+05, 1.87336631e+05, 2.25567622e+05,\n",
       "       2.67447408e+05, 3.12982309e+05, 3.62176169e+05, 4.15031244e+05,\n",
       "       4.71548241e+05, 5.31727116e+05, 5.95567291e+05, 6.63067916e+05,\n",
       "       7.34227722e+05, 8.09045556e+05, 8.87520153e+05, 9.69650259e+05,\n",
       "       1.05543490e+06, 1.14487280e+06, 1.23796303e+06, 1.33470483e+06,\n",
       "       1.43509743e+06, 1.53913996e+06, 1.64683239e+06, 1.75817365e+06,\n",
       "       1.87316279e+06, 1.99179988e+06, 2.11408425e+06, 2.24001666e+06,\n",
       "       2.36959631e+06, 2.50282299e+06, 2.63969566e+06, 2.78021454e+06,\n",
       "       2.92437971e+06, 3.07219169e+06, 3.22365025e+06, 3.37875531e+06,\n",
       "       3.53750671e+06, 3.69990354e+06, 3.86594656e+06, 4.03563574e+06,\n",
       "       4.20897071e+06, 4.38595200e+06, 4.56657917e+06, 4.75085208e+06,\n",
       "       4.93877085e+06, 5.13033558e+06, 5.32554697e+06, 5.52440503e+06,\n",
       "       5.72690892e+06, 5.93306015e+06, 6.14285603e+06, 6.35628878e+06,\n",
       "       6.57336412e+06, 6.79408568e+06, 7.01845280e+06, 7.24646657e+06,\n",
       "       7.47812607e+06, 7.71343245e+06, 7.95238455e+06, 8.19498380e+06,\n",
       "       8.44122922e+06, 8.69112140e+06, 8.94466040e+06, 9.20184615e+06,\n",
       "       9.46267845e+06, 9.72715780e+06, 9.99528425e+06, 1.02670576e+07,\n",
       "       1.05424788e+07, 1.08215464e+07, 1.11042616e+07, 1.13906246e+07,\n",
       "       1.16806343e+07, 1.19742922e+07, 1.22715977e+07, 1.25725509e+07,\n",
       "       1.28771514e+07, 1.31854000e+07, 1.34972974e+07, 1.38128412e+07,\n",
       "       1.41320346e+07, 1.44548754e+07, 1.47813644e+07, 1.51115018e+07,\n",
       "       1.54452875e+07, 1.57827221e+07, 1.61238041e+07, 1.64685366e+07,\n",
       "       1.68169165e+07, 1.71689451e+07, 1.75246229e+07, 1.78839497e+07])"
      ]
     },
     "execution_count": 45,
     "metadata": {},
     "output_type": "execute_result"
    }
   ],
   "source": [
    "avg_loss"
   ]
  },
  {
   "cell_type": "code",
   "execution_count": 45,
   "id": "1464a9bf",
   "metadata": {},
   "outputs": [
    {
     "data": {
      "text/plain": [
       "[<matplotlib.lines.Line2D at 0x2291c9ffc70>]"
      ]
     },
     "execution_count": 45,
     "metadata": {},
     "output_type": "execute_result"
    },
    {
     "data": {
      "image/png": "[encoded data removed]",
      "text/plain": [
       "<Figure size 432x288 with 1 Axes>"
      ]
     },
     "metadata": {
      "needs_background": "light"
     },
     "output_type": "display_data"
    }
   ],
   "source": [
    "plt.plot(avg_loss)"
   ]
  },
  {
   "cell_type": "code",
   "execution_count": 133,
   "id": "c43775ef",
   "metadata": {},
   "outputs": [],
   "source": [
    "def evaluateL2O(optimizer_obj, optimizee_cls, num_functions, iterations):\n",
    "    \n",
    "    meta_opt = optimizer_obj\n",
    "    avg_loss_funcs = torch.zeros(size=(num_functions, iterations))\n",
    "    for n_func in tqdm(range(num_functions)):\n",
    "        \n",
    "        quad_cls = optimizee_cls(seed=2*n_func)\n",
    "        \n",
    "        # Compute global loss\n",
    "        loss_unroll, _ = learn(meta_opt, \n",
    "                                   quad_cls, \n",
    "                                   unroll_steps=iterations, \n",
    "                                   retain_graph_flag=True)\n",
    "\n",
    "        avg_loss_funcs[n_func, :] = torch.tensor(loss_unroll)\n",
    "\n",
    "    return avg_loss_funcs.mean(axis=0)"
   ]
  },
  {
   "cell_type": "code",
   "execution_count": 134,
   "id": "78745ecb",
   "metadata": {
    "scrolled": true
   },
   "outputs": [
    {
     "name": "stderr",
     "output_type": "stream",
     "text": [
      "100%|███████████████████████████████████████████████████████████████████████████████████████████████████| 10/10 [00:22<00:00,  2.30s/it]\n"
     ]
    }
   ],
   "source": [
    "eval_loss = evaluateL2O(optimizer_obj = meta_opt, \n",
    "                                        optimizee_cls = Quadratic, \n",
    "                                        num_functions = 10, \n",
    "                                        iterations = 100)"
   ]
  },
  {
   "cell_type": "code",
   "execution_count": 135,
   "id": "70caa3a5",
   "metadata": {},
   "outputs": [
    {
     "data": {
      "text/plain": [
       "[<matplotlib.lines.Line2D at 0x27e312cb1f0>]"
      ]
     },
     "execution_count": 135,
     "metadata": {},
     "output_type": "execute_result"
    },
    {
     "data": {
      "image/png": "[encoded data removed]",
      "text/plain": [
       "<Figure size 432x288 with 1 Axes>"
      ]
     },
     "metadata": {
      "needs_background": "light"
     },
     "output_type": "display_data"
    }
   ],
   "source": [
    "plt.plot(eval_loss)"
   ]
  },
  {
   "cell_type": "code",
   "execution_count": 131,
   "id": "654e1275",
   "metadata": {},
   "outputs": [
    {
     "data": {
      "text/plain": [
       "[<matplotlib.lines.Line2D at 0x27e31289b50>]"
      ]
     },
     "execution_count": 131,
     "metadata": {},
     "output_type": "execute_result"
    },
    {
     "data": {
      "image/png": "[encoded data removed]",
      "text/plain": [
       "<Figure size 432x288 with 1 Axes>"
      ]
     },
     "metadata": {
      "needs_background": "light"
     },
     "output_type": "display_data"
    }
   ],
   "source": [
    "plt.plot(eval_loss)"
   ]
  },
  {
   "cell_type": "code",
   "execution_count": 132,
   "id": "19e287d6",
   "metadata": {},
   "outputs": [
    {
     "data": {
      "text/plain": [
       "tensor([8.6904, 1.5837, 0.9689, 0.4922, 0.2324, 0.1200, 0.0871, 0.0816, 0.0809,\n",
       "        0.0803, 0.0789, 0.0776, 0.0764, 0.0756, 0.0750, 0.0746, 0.0742, 0.0738,\n",
       "        0.0734, 0.0731, 0.0728, 0.0725, 0.0722, 0.0718, 0.0715, 0.0712, 0.0709,\n",
       "        0.0706, 0.0703, 0.0700, 0.0697, 0.0694, 0.0691, 0.0688, 0.0686, 0.0683,\n",
       "        0.0680, 0.0677, 0.0674, 0.0671, 0.0668, 0.0666, 0.0663, 0.0660, 0.0657,\n",
       "        0.0654, 0.0652, 0.0649, 0.0646, 0.0643, 0.0641, 0.0638, 0.0635, 0.0633,\n",
       "        0.0630, 0.0627, 0.0625, 0.0622, 0.0619, 0.0617, 0.0614, 0.0612, 0.0609,\n",
       "        0.0607, 0.0604, 0.0601, 0.0599, 0.0596, 0.0594, 0.0591, 0.0589, 0.0586,\n",
       "        0.0584, 0.0581, 0.0579, 0.0577, 0.0574, 0.0572, 0.0569, 0.0567, 0.0565,\n",
       "        0.0562, 0.0560, 0.0557, 0.0555, 0.0553, 0.0550, 0.0548, 0.0546, 0.0543,\n",
       "        0.0541, 0.0539, 0.0537, 0.0534, 0.0532, 0.0530, 0.0528, 0.0525, 0.0523,\n",
       "        0.0521])"
      ]
     },
     "execution_count": 132,
     "metadata": {},
     "output_type": "execute_result"
    }
   ],
   "source": [
    "eval_loss"
   ]
  },
  {
   "cell_type": "code",
   "execution_count": null,
   "id": "77a103cf",
   "metadata": {},
   "outputs": [],
   "source": []
  }
 ],
 "metadata": {
  "kernelspec": {
   "display_name": "Python 3 (ipykernel)",
   "language": "python",
   "name": "python3"
  },
  "language_info": {
   "codemirror_mode": {
    "name": "ipython",
    "version": 3
   },
   "file_extension": ".py",
   "mimetype": "text/x-python",
   "name": "python",
   "nbconvert_exporter": "python",
   "pygments_lexer": "ipython3",
   "version": "3.9.7"
  }
 },
 "nbformat": 4,
 "nbformat_minor": 5
}
